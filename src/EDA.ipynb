{
 "cells": [
  {
   "cell_type": "markdown",
   "metadata": {},
   "source": [
    "# import"
   ]
  },
  {
   "cell_type": "code",
   "execution_count": 2,
   "metadata": {},
   "outputs": [],
   "source": [
    "import matplotlib.pyplot as plt\n",
    "import scipy.stats as stats\n",
    "import lightgbm as lgb\n",
    "import seaborn as sns\n",
    "import xgboost as xgb\n",
    "import pandas as pd\n",
    "import numpy as np\n",
    "import matplotlib\n",
    "import warnings\n",
    "import sklearn\n",
    "import scipy\n",
    "import numpy\n",
    "import json\n",
    "import sys\n",
    "import csv\n",
    "import os\n",
    "import re\n",
    "\n",
    "from rdkit.Chem import MolFromSmiles\n",
    "from rdkit.Chem import Draw\n",
    "# from rdkit.Chem.Draw import IPythonConsole\n",
    "from rdkit.Chem import AllChem\n",
    "from rdkit.Chem import MolToSmiles\n",
    "\n",
    "pd.set_option('display.max_columns', 50)\n",
    "warnings.filterwarnings('ignore')\n",
    "sns.set(color_codes=True)\n",
    "plt.style.available\n",
    "%matplotlib inline\n",
    "%precision 2\n",
    "\n",
    "from utils import split_train_line, split_test_line"
   ]
  },
  {
   "cell_type": "markdown",
   "metadata": {},
   "source": [
    "# Read data"
   ]
  },
  {
   "cell_type": "code",
   "execution_count": 3,
   "metadata": {},
   "outputs": [
    {
     "data": {
      "text/plain": [
       "20813"
      ]
     },
     "execution_count": 3,
     "metadata": {},
     "output_type": "execute_result"
    }
   ],
   "source": [
    "with open('../input/training/train.txt', 'r') as f:\n",
    "    train_lines = f.readlines()\n",
    "del train_lines[0]\n",
    "len(train_lines)"
   ]
  },
  {
   "cell_type": "code",
   "execution_count": 4,
   "metadata": {},
   "outputs": [
    {
     "data": {
      "text/plain": [
       "5188"
      ]
     },
     "execution_count": 4,
     "metadata": {},
     "output_type": "execute_result"
    }
   ],
   "source": [
    "with open('../input/training/test.txt', 'r') as f:\n",
    "    test_lines = f.readlines()\n",
    "del test_lines[0]\n",
    "len(test_lines)"
   ]
  },
  {
   "cell_type": "code",
   "execution_count": 5,
   "metadata": {},
   "outputs": [
    {
     "data": {
      "text/plain": [
       "(20813, 5)"
      ]
     },
     "execution_count": 5,
     "metadata": {},
     "output_type": "execute_result"
    }
   ],
   "source": [
    "train_reactions = []\n",
    "for line in train_lines:\n",
    "    train_reactions.append(split_train_line(line))\n",
    "train = pd.DataFrame(train_reactions)\n",
    "\n",
    "train.shape"
   ]
  },
  {
   "cell_type": "code",
   "execution_count": 6,
   "metadata": {},
   "outputs": [
    {
     "data": {
      "text/html": [
       "<div>\n",
       "<style scoped>\n",
       "    .dataframe tbody tr th:only-of-type {\n",
       "        vertical-align: middle;\n",
       "    }\n",
       "\n",
       "    .dataframe tbody tr th {\n",
       "        vertical-align: top;\n",
       "    }\n",
       "\n",
       "    .dataframe thead th {\n",
       "        text-align: right;\n",
       "    }\n",
       "</style>\n",
       "<table border=\"1\" class=\"dataframe\">\n",
       "  <thead>\n",
       "    <tr style=\"text-align: right;\">\n",
       "      <th></th>\n",
       "      <th>id</th>\n",
       "      <th>production</th>\n",
       "      <th>reactant</th>\n",
       "      <th>reagent</th>\n",
       "      <th>xxx</th>\n",
       "    </tr>\n",
       "  </thead>\n",
       "  <tbody>\n",
       "    <tr>\n",
       "      <th>0</th>\n",
       "      <td>00000</td>\n",
       "      <td>[O=C(O)CCCCCCC1=C(C=Cc2ccccc2)C(O)CC1=O]</td>\n",
       "      <td>[O=C(O)C(=O)O, [OH-], O, [K+], O=C(O)CCCCCCCC(...</td>\n",
       "      <td>[ClC(Cl)Cl]</td>\n",
       "      <td>|f:0.1,3.4.5|</td>\n",
       "    </tr>\n",
       "    <tr>\n",
       "      <th>1</th>\n",
       "      <td>00001</td>\n",
       "      <td>[O=C1NCCN1C(c1ccccc1)c1ccccc1]</td>\n",
       "      <td>[O=C([O-])[O-], O=C1NCCN1, ClC(c1ccccc1)c1cccc...</td>\n",
       "      <td>[CS(C)=O]</td>\n",
       "      <td>|f:1.2.3|</td>\n",
       "    </tr>\n",
       "    <tr>\n",
       "      <th>2</th>\n",
       "      <td>00002</td>\n",
       "      <td>[O=C(NCCN1CCC(O)(c2ccc(Cl)cc2)CC1)c1ccccc1]</td>\n",
       "      <td>[O=C(c1ccccc1)N1CC1, OC1(c2ccc(Cl)cc2)CCNCC1, ...</td>\n",
       "      <td>[CCOCC]</td>\n",
       "      <td></td>\n",
       "    </tr>\n",
       "    <tr>\n",
       "      <th>3</th>\n",
       "      <td>00003</td>\n",
       "      <td>[CN(C)CC1CCN2c3ccccc3Cc3ccccc3C2C1]</td>\n",
       "      <td>[COC=O, O=C(O)/C=C/C(=O)O, CN(C)CC1CCN2c3ccccc...</td>\n",
       "      <td>[CO, CC(C)=O]</td>\n",
       "      <td>|f:1.2,3.4|</td>\n",
       "    </tr>\n",
       "    <tr>\n",
       "      <th>4</th>\n",
       "      <td>00004</td>\n",
       "      <td>[[Cl-], C[N+](C)(CCCN)CC(=O)Nc1ccc([N+](=O)[O-...</td>\n",
       "      <td>[[Na+], C[N+](C)(CCCNC=O)CC(=O)Nc1ccc([N+](=O)...</td>\n",
       "      <td>[O]</td>\n",
       "      <td>|f:0.1,3.4,6.7|</td>\n",
       "    </tr>\n",
       "  </tbody>\n",
       "</table>\n",
       "</div>"
      ],
      "text/plain": [
       "      id                                         production  \\\n",
       "0  00000           [O=C(O)CCCCCCC1=C(C=Cc2ccccc2)C(O)CC1=O]   \n",
       "1  00001                     [O=C1NCCN1C(c1ccccc1)c1ccccc1]   \n",
       "2  00002        [O=C(NCCN1CCC(O)(c2ccc(Cl)cc2)CC1)c1ccccc1]   \n",
       "3  00003                [CN(C)CC1CCN2c3ccccc3Cc3ccccc3C2C1]   \n",
       "4  00004  [[Cl-], C[N+](C)(CCCN)CC(=O)Nc1ccc([N+](=O)[O-...   \n",
       "\n",
       "                                            reactant        reagent  \\\n",
       "0  [O=C(O)C(=O)O, [OH-], O, [K+], O=C(O)CCCCCCCC(...    [ClC(Cl)Cl]   \n",
       "1  [O=C([O-])[O-], O=C1NCCN1, ClC(c1ccccc1)c1cccc...      [CS(C)=O]   \n",
       "2  [O=C(c1ccccc1)N1CC1, OC1(c2ccc(Cl)cc2)CCNCC1, ...        [CCOCC]   \n",
       "3  [COC=O, O=C(O)/C=C/C(=O)O, CN(C)CC1CCN2c3ccccc...  [CO, CC(C)=O]   \n",
       "4  [[Na+], C[N+](C)(CCCNC=O)CC(=O)Nc1ccc([N+](=O)...            [O]   \n",
       "\n",
       "               xxx  \n",
       "0    |f:0.1,3.4.5|  \n",
       "1        |f:1.2.3|  \n",
       "2                   \n",
       "3      |f:1.2,3.4|  \n",
       "4  |f:0.1,3.4,6.7|  "
      ]
     },
     "execution_count": 6,
     "metadata": {},
     "output_type": "execute_result"
    }
   ],
   "source": [
    "train.head()"
   ]
  },
  {
   "cell_type": "code",
   "execution_count": 7,
   "metadata": {},
   "outputs": [
    {
     "data": {
      "text/plain": [
       "(5188, 4)"
      ]
     },
     "execution_count": 7,
     "metadata": {},
     "output_type": "execute_result"
    }
   ],
   "source": [
    "test_reaction = []\n",
    "for line in test_lines:\n",
    "    test_reaction.append(split_test_line(line))\n",
    "test = pd.DataFrame(test_reaction)\n",
    "# test.head()\n",
    "test.shape"
   ]
  },
  {
   "cell_type": "markdown",
   "metadata": {},
   "source": [
    "# Molecular number dist of train/test"
   ]
  },
  {
   "cell_type": "code",
   "execution_count": 8,
   "metadata": {},
   "outputs": [],
   "source": [
    "train['train_reactant_mol_num'] = train['reactant'].map(lambda x: len(x))\n",
    "train['train_reagent_mol_num'] = train['reagent'].map(lambda x: len(x))\n",
    "train['train_production_mol_num'] = train['production'].map(lambda x: len(x))\n",
    "test['test_reagent_mol_num'] = test['reagent'].map(lambda x: len(x))\n",
    "test['test_production_mol_num'] = test['production'].map(lambda x: len(x)) # if type(x) == list else 1)"
   ]
  },
  {
   "cell_type": "code",
   "execution_count": 9,
   "metadata": {},
   "outputs": [
    {
     "data": {
      "text/plain": [
       "<matplotlib.axes._subplots.AxesSubplot at 0x164dd82bf28>"
      ]
     },
     "execution_count": 9,
     "metadata": {},
     "output_type": "execute_result"
    },
    {
     "data": {
      "image/png": "[encoded data removed]",
      "text/plain": [
       "<Figure size 504x360 with 1 Axes>"
      ]
     },
     "metadata": {},
     "output_type": "display_data"
    }
   ],
   "source": [
    "plt.figure(figsize=(7, 5))\n",
    "train_reactant_len_dist = train['train_reactant_mol_num'].value_counts()\n",
    "sns.barplot(train_reactant_len_dist.index, train_reactant_len_dist)"
   ]
  },
  {
   "cell_type": "code",
   "execution_count": 10,
   "metadata": {},
   "outputs": [
    {
     "data": {
      "text/plain": [
       "<matplotlib.axes._subplots.AxesSubplot at 0x164df962c88>"
      ]
     },
     "execution_count": 10,
     "metadata": {},
     "output_type": "execute_result"
    },
    {
     "data": {
      "image/png": "[encoded data removed]",
      "text/plain": [
       "<Figure size 1080x360 with 2 Axes>"
      ]
     },
     "metadata": {},
     "output_type": "display_data"
    }
   ],
   "source": [
    "plt.figure(figsize=(15, 5))\n",
    "train_reactant_len_dist = train['train_reagent_mol_num'].value_counts()\n",
    "test_reactant_len_dist = test['test_reagent_mol_num'].value_counts()\n",
    "plt.subplot(121)\n",
    "sns.barplot(train_reactant_len_dist.index, train_reactant_len_dist)\n",
    "plt.subplot(122)\n",
    "sns.barplot(test_reactant_len_dist.index, test_reactant_len_dist)"
   ]
  },
  {
   "cell_type": "code",
   "execution_count": 11,
   "metadata": {},
   "outputs": [
    {
     "data": {
      "text/plain": [
       "<matplotlib.axes._subplots.AxesSubplot at 0x164dfd4c080>"
      ]
     },
     "execution_count": 11,
     "metadata": {},
     "output_type": "execute_result"
    },
    {
     "data": {
      "image/png": "[encoded data removed]",
      "text/plain": [
       "<Figure size 1080x360 with 2 Axes>"
      ]
     },
     "metadata": {},
     "output_type": "display_data"
    }
   ],
   "source": [
    "plt.figure(figsize=(15, 5))\n",
    "train_production_len_dist = train['train_production_mol_num'].value_counts()\n",
    "test_production_len_dist = test['test_production_mol_num'].value_counts()\n",
    "plt.subplot(121)\n",
    "sns.barplot(train_production_len_dist.index, train_production_len_dist)\n",
    "plt.subplot(122)\n",
    "sns.barplot(test_production_len_dist.index, test_production_len_dist)"
   ]
  },
  {
   "cell_type": "markdown",
   "metadata": {},
   "source": [
    "# Molecular reactant dist of train"
   ]
  },
  {
   "cell_type": "code",
   "execution_count": 12,
   "metadata": {},
   "outputs": [
    {
     "data": {
      "text/plain": [
       "(20813,)"
      ]
     },
     "execution_count": 12,
     "metadata": {},
     "output_type": "execute_result"
    }
   ],
   "source": [
    "train['reactant'].shape"
   ]
  },
  {
   "cell_type": "code",
   "execution_count": 17,
   "metadata": {},
   "outputs": [],
   "source": [
    "# train reactants dist\n",
    "train_reactants_dic = {}\n",
    "for reactants in train['reactant']:   # type: list\n",
    "    for reactant in reactants:\n",
    "        if reactant in train_reactants_dic:\n",
    "            train_reactants_dic[reactant] += 1\n",
    "        else:\n",
    "            train_reactants_dic[reactant] = 1\n",
    "# train_reactants = sorted(train_reactants_dic.items(),key = lambda x:x[1],reverse = True)\n",
    "\n",
    "train_reactants = pd.DataFrame({\n",
    "    'mol': list(train_reactants_dic.keys()),\n",
    "    'number': list(train_reactants_dic.values()),\n",
    "})\n",
    "\n",
    "def atom_number_of_mol(smi):\n",
    "    mol = MolFromSmiles(smi)\n",
    "    if mol is not None:\n",
    "        return mol.GetNumAtoms()\n",
    "    else:\n",
    "        return 0\n",
    "\n",
    "train_reactants['mol_atom_n'] = train_reactants['mol'].map(lambda x: atom_number_of_mol(x)) \n",
    "\n",
    "train_reactants.head()\n",
    "\n",
    "plt.figure(figsize=(15, 15))\n",
    "sns.jointplot(\"number\", \"mol_atom_n\", data=train_reactants, kind=\"kde\", space=0, color=\"g\")"
   ]
  },
  {
   "cell_type": "markdown",
   "metadata": {},
   "source": [
    "### 将x轴限制在(0,2000)"
   ]
  },
  {
   "cell_type": "code",
   "execution_count": 22,
   "metadata": {},
   "outputs": [
    {
     "data": {
      "text/plain": [
       "<seaborn.axisgrid.JointGrid at 0x164e14db6d8>"
      ]
     },
     "execution_count": 22,
     "metadata": {},
     "output_type": "execute_result"
    },
    {
     "data": {
      "text/plain": [
       "<Figure size 1080x1080 with 0 Axes>"
      ]
     },
     "metadata": {},
     "output_type": "display_data"
    },
    {
     "data": {
      "image/png": "[encoded data removed]",
      "text/plain": [
       "<Figure size 432x432 with 3 Axes>"
      ]
     },
     "metadata": {},
     "output_type": "display_data"
    }
   ],
   "source": [
    "plt.figure(figsize=(15, 15))\n",
    "sns.jointplot(\"number\", \"mol_atom_n\", data=train_reactants, space=0, color=\"g\", xlim=(0,2000), ylim=(0, 50))"
   ]
  },
  {
   "cell_type": "markdown",
   "metadata": {},
   "source": [
    "#### 从上图看出，在两个方向上都有outlies"
   ]
  },
  {
   "cell_type": "code",
   "execution_count": 23,
   "metadata": {},
   "outputs": [],
   "source": [
    "### 将x轴限制在(0,1000)"
   ]
  },
  {
   "cell_type": "code",
   "execution_count": 21,
   "metadata": {},
   "outputs": [
    {
     "data": {
      "text/plain": [
       "<seaborn.axisgrid.JointGrid at 0x164e019efd0>"
      ]
     },
     "execution_count": 21,
     "metadata": {},
     "output_type": "execute_result"
    },
    {
     "data": {
      "text/plain": [
       "<Figure size 1080x1080 with 0 Axes>"
      ]
     },
     "metadata": {},
     "output_type": "display_data"
    },
    {
     "data": {
      "image/png": "[encoded data removed]",
      "text/plain": [
       "<Figure size 432x432 with 3 Axes>"
      ]
     },
     "metadata": {},
     "output_type": "display_data"
    }
   ],
   "source": [
    "plt.figure(figsize=(15, 15))\n",
    "sns.jointplot(\"number\", \"mol_atom_n\", data=train_reactants, space=0, color=\"g\", xlim=(0,1000), ylim=(0, 50))"
   ]
  },
  {
   "cell_type": "markdown",
   "metadata": {},
   "source": [
    "# Molecular reagents dist of train"
   ]
  },
  {
   "cell_type": "code",
   "execution_count": 29,
   "metadata": {},
   "outputs": [
    {
     "data": {
      "text/html": [
       "<div>\n",
       "<style scoped>\n",
       "    .dataframe tbody tr th:only-of-type {\n",
       "        vertical-align: middle;\n",
       "    }\n",
       "\n",
       "    .dataframe tbody tr th {\n",
       "        vertical-align: top;\n",
       "    }\n",
       "\n",
       "    .dataframe thead th {\n",
       "        text-align: right;\n",
       "    }\n",
       "</style>\n",
       "<table border=\"1\" class=\"dataframe\">\n",
       "  <thead>\n",
       "    <tr style=\"text-align: right;\">\n",
       "      <th></th>\n",
       "      <th>mol</th>\n",
       "      <th>number</th>\n",
       "      <th>mol_atom_n</th>\n",
       "    </tr>\n",
       "  </thead>\n",
       "  <tbody>\n",
       "    <tr>\n",
       "      <th>0</th>\n",
       "      <td>ClC(Cl)Cl</td>\n",
       "      <td>677</td>\n",
       "      <td>4</td>\n",
       "    </tr>\n",
       "    <tr>\n",
       "      <th>1</th>\n",
       "      <td>CS(C)=O</td>\n",
       "      <td>265</td>\n",
       "      <td>4</td>\n",
       "    </tr>\n",
       "    <tr>\n",
       "      <th>2</th>\n",
       "      <td>CCOCC</td>\n",
       "      <td>1436</td>\n",
       "      <td>5</td>\n",
       "    </tr>\n",
       "    <tr>\n",
       "      <th>3</th>\n",
       "      <td>CO</td>\n",
       "      <td>1830</td>\n",
       "      <td>2</td>\n",
       "    </tr>\n",
       "    <tr>\n",
       "      <th>4</th>\n",
       "      <td>CC(C)=O</td>\n",
       "      <td>628</td>\n",
       "      <td>4</td>\n",
       "    </tr>\n",
       "  </tbody>\n",
       "</table>\n",
       "</div>"
      ],
      "text/plain": [
       "         mol  number  mol_atom_n\n",
       "0  ClC(Cl)Cl     677           4\n",
       "1    CS(C)=O     265           4\n",
       "2      CCOCC    1436           5\n",
       "3         CO    1830           2\n",
       "4    CC(C)=O     628           4"
      ]
     },
     "execution_count": 29,
     "metadata": {},
     "output_type": "execute_result"
    }
   ],
   "source": [
    "# train reagents dist\n",
    "train_reagents_dic = {}\n",
    "for reagents in train['reagent']:   # type: list\n",
    "    for reagent in reagents:\n",
    "        if reagent in train_reagents_dic:\n",
    "            train_reagents_dic[reagent] += 1\n",
    "        else:\n",
    "            train_reagents_dic[reagent] = 1\n",
    "# train_reagents = sorted(train_reagents_dic.items(),key = lambda x:x[1],reverse = True)\n",
    "\n",
    "train_reagents = pd.DataFrame({\n",
    "    'mol': list(train_reagents_dic.keys()),\n",
    "    'number': list(train_reagents_dic.values()),\n",
    "})\n",
    "\n",
    "def atom_number_of_mol(smi):\n",
    "    mol = MolFromSmiles(smi)\n",
    "    if mol is not None:\n",
    "        return mol.GetNumAtoms()\n",
    "    else:\n",
    "        return 0\n",
    "\n",
    "train_reagents['mol_atom_n'] = train_reagents['mol'].map(lambda x: atom_number_of_mol(x)) \n",
    "\n",
    "train_reagents.head()"
   ]
  },
  {
   "cell_type": "code",
   "execution_count": 30,
   "metadata": {},
   "outputs": [
    {
     "data": {
      "text/plain": [
       "<seaborn.axisgrid.JointGrid at 0x164e1770e80>"
      ]
     },
     "execution_count": 30,
     "metadata": {},
     "output_type": "execute_result"
    },
    {
     "data": {
      "text/plain": [
       "<Figure size 1080x1080 with 0 Axes>"
      ]
     },
     "metadata": {},
     "output_type": "display_data"
    },
    {
     "data": {
      "image/png": "[encoded data removed]",
      "text/plain": [
       "<Figure size 432x432 with 3 Axes>"
      ]
     },
     "metadata": {},
     "output_type": "display_data"
    }
   ],
   "source": [
    "plt.figure(figsize=(15, 15))\n",
    "sns.jointplot(\"number\", \"mol_atom_n\", data=train_reagents, space=0, color=\"g\")"
   ]
  },
  {
   "cell_type": "code",
   "execution_count": 31,
   "metadata": {},
   "outputs": [
    {
     "data": {
      "text/plain": [
       "<seaborn.axisgrid.JointGrid at 0x164e2df4be0>"
      ]
     },
     "execution_count": 31,
     "metadata": {},
     "output_type": "execute_result"
    },
    {
     "data": {
      "text/plain": [
       "<Figure size 1080x1080 with 0 Axes>"
      ]
     },
     "metadata": {},
     "output_type": "display_data"
    },
    {
     "data": {
      "image/png": "[encoded data removed]",
      "text/plain": [
       "<Figure size 432x432 with 3 Axes>"
      ]
     },
     "metadata": {},
     "output_type": "display_data"
    }
   ],
   "source": [
    "plt.figure(figsize=(15, 15))\n",
    "sns.jointplot(\"number\", \"mol_atom_n\", data=train_reagents, space=0, color=\"g\", xlim=(0,200), ylim=(0, 50))"
   ]
  },
  {
   "cell_type": "markdown",
   "metadata": {},
   "source": [
    "# Molecular product dist of train"
   ]
  },
  {
   "cell_type": "code",
   "execution_count": 24,
   "metadata": {},
   "outputs": [
    {
     "data": {
      "text/html": [
       "<div>\n",
       "<style scoped>\n",
       "    .dataframe tbody tr th:only-of-type {\n",
       "        vertical-align: middle;\n",
       "    }\n",
       "\n",
       "    .dataframe tbody tr th {\n",
       "        vertical-align: top;\n",
       "    }\n",
       "\n",
       "    .dataframe thead th {\n",
       "        text-align: right;\n",
       "    }\n",
       "</style>\n",
       "<table border=\"1\" class=\"dataframe\">\n",
       "  <thead>\n",
       "    <tr style=\"text-align: right;\">\n",
       "      <th></th>\n",
       "      <th>mol</th>\n",
       "      <th>number</th>\n",
       "      <th>mol_atom_n</th>\n",
       "    </tr>\n",
       "  </thead>\n",
       "  <tbody>\n",
       "    <tr>\n",
       "      <th>0</th>\n",
       "      <td>O=C(O)CCCCCCC1=C(C=Cc2ccccc2)C(O)CC1=O</td>\n",
       "      <td>1</td>\n",
       "      <td>24</td>\n",
       "    </tr>\n",
       "    <tr>\n",
       "      <th>1</th>\n",
       "      <td>O=C1NCCN1C(c1ccccc1)c1ccccc1</td>\n",
       "      <td>1</td>\n",
       "      <td>19</td>\n",
       "    </tr>\n",
       "    <tr>\n",
       "      <th>2</th>\n",
       "      <td>O=C(NCCN1CCC(O)(c2ccc(Cl)cc2)CC1)c1ccccc1</td>\n",
       "      <td>1</td>\n",
       "      <td>25</td>\n",
       "    </tr>\n",
       "    <tr>\n",
       "      <th>3</th>\n",
       "      <td>CN(C)CC1CCN2c3ccccc3Cc3ccccc3C2C1</td>\n",
       "      <td>1</td>\n",
       "      <td>23</td>\n",
       "    </tr>\n",
       "    <tr>\n",
       "      <th>4</th>\n",
       "      <td>[Cl-]</td>\n",
       "      <td>118</td>\n",
       "      <td>1</td>\n",
       "    </tr>\n",
       "  </tbody>\n",
       "</table>\n",
       "</div>"
      ],
      "text/plain": [
       "                                         mol  number  mol_atom_n\n",
       "0     O=C(O)CCCCCCC1=C(C=Cc2ccccc2)C(O)CC1=O       1          24\n",
       "1               O=C1NCCN1C(c1ccccc1)c1ccccc1       1          19\n",
       "2  O=C(NCCN1CCC(O)(c2ccc(Cl)cc2)CC1)c1ccccc1       1          25\n",
       "3          CN(C)CC1CCN2c3ccccc3Cc3ccccc3C2C1       1          23\n",
       "4                                      [Cl-]     118           1"
      ]
     },
     "execution_count": 24,
     "metadata": {},
     "output_type": "execute_result"
    }
   ],
   "source": [
    "# train productions dist\n",
    "train_productions_dic = {}\n",
    "for productions in train['production']:   # type: list\n",
    "    for production in productions:\n",
    "        if production in train_productions_dic:\n",
    "            train_productions_dic[production] += 1\n",
    "        else:\n",
    "            train_productions_dic[production] = 1\n",
    "# train_productions = sorted(train_productions_dic.items(),key = lambda x:x[1],reverse = True)\n",
    "\n",
    "train_productions = pd.DataFrame({\n",
    "    'mol': list(train_productions_dic.keys()),\n",
    "    'number': list(train_productions_dic.values()),\n",
    "})\n",
    "\n",
    "def atom_number_of_mol(smi):\n",
    "    mol = MolFromSmiles(smi)\n",
    "    if mol is not None:\n",
    "        return mol.GetNumAtoms()\n",
    "    else:\n",
    "        return 0\n",
    "\n",
    "train_productions['mol_atom_n'] = train_productions['mol'].map(lambda x: atom_number_of_mol(x)) \n",
    "\n",
    "train_productions.head()"
   ]
  },
  {
   "cell_type": "code",
   "execution_count": 28,
   "metadata": {},
   "outputs": [
    {
     "data": {
      "text/plain": [
       "<seaborn.axisgrid.JointGrid at 0x164e16b05f8>"
      ]
     },
     "execution_count": 28,
     "metadata": {},
     "output_type": "execute_result"
    },
    {
     "data": {
      "text/plain": [
       "<Figure size 1080x1080 with 0 Axes>"
      ]
     },
     "metadata": {},
     "output_type": "display_data"
    },
    {
     "data": {
      "image/png": "[encoded data removed]",
      "text/plain": [
       "<Figure size 432x432 with 3 Axes>"
      ]
     },
     "metadata": {},
     "output_type": "display_data"
    }
   ],
   "source": [
    "plt.figure(figsize=(15, 15))\n",
    "sns.jointplot(\"number\", \"mol_atom_n\", data=train_productions, space=0, color=\"g\")"
   ]
  },
  {
   "cell_type": "code",
   "execution_count": 27,
   "metadata": {},
   "outputs": [
    {
     "data": {
      "text/plain": [
       "<seaborn.axisgrid.JointGrid at 0x164e16b0710>"
      ]
     },
     "execution_count": 27,
     "metadata": {},
     "output_type": "execute_result"
    },
    {
     "data": {
      "text/plain": [
       "<Figure size 1080x1080 with 0 Axes>"
      ]
     },
     "metadata": {},
     "output_type": "display_data"
    },
    {
     "data": {
      "image/png": "[encoded data removed]",
      "text/plain": [
       "<Figure size 432x432 with 3 Axes>"
      ]
     },
     "metadata": {},
     "output_type": "display_data"
    }
   ],
   "source": [
    "plt.figure(figsize=(15, 15))\n",
    "sns.jointplot(\"number\", \"mol_atom_n\", data=train_productions, space=0, color=\"g\", xlim=(0,200), ylim=(0, 50))"
   ]
  },
  {
   "cell_type": "code",
   "execution_count": null,
   "metadata": {},
   "outputs": [],
   "source": [
    "plt.figure(figsize=(15, 15))\n",
    "sns.jointplot(\"number\", \"mol_atom_n\", data=train_reactants, kind=\"kde\", space=0, color=\"g\", xlim=(0,1000), ylim=(0, 50))"
   ]
  },
  {
   "cell_type": "markdown",
   "metadata": {},
   "source": [
    "#### 从上图看出，number主要在(0, 50), mol_atom_n主要在(0, 200)"
   ]
  },
  {
   "cell_type": "markdown",
   "metadata": {},
   "source": [
    "###  统计原子数》100的分子，并打印出来"
   ]
  },
  {
   "cell_type": "code",
   "execution_count": 19,
   "metadata": {},
   "outputs": [
    {
     "ename": "ValueError",
     "evalue": "too many values to unpack (expected 2)",
     "output_type": "error",
     "traceback": [
      "\u001b[1;31m---------------------------------------------------------------------------\u001b[0m",
      "\u001b[1;31mValueError\u001b[0m                                Traceback (most recent call last)",
      "\u001b[1;32m<ipython-input-19-cff79b9962ad>\u001b[0m in \u001b[0;36m<module>\u001b[1;34m()\u001b[0m\n\u001b[0;32m      1\u001b[0m \u001b[0mmol_atom_n_greater_100\u001b[0m \u001b[1;33m=\u001b[0m \u001b[1;33m[\u001b[0m\u001b[1;33m]\u001b[0m\u001b[1;33m\u001b[0m\u001b[0m\n\u001b[1;32m----> 2\u001b[1;33m \u001b[1;32mfor\u001b[0m \u001b[0mkey\u001b[0m\u001b[1;33m,\u001b[0m \u001b[0mvalue\u001b[0m \u001b[1;32min\u001b[0m \u001b[0mtrain_reactants\u001b[0m\u001b[1;33m:\u001b[0m\u001b[1;33m\u001b[0m\u001b[0m\n\u001b[0m\u001b[0;32m      3\u001b[0m     \u001b[0mmol\u001b[0m \u001b[1;33m=\u001b[0m \u001b[0mMolFromSmiles\u001b[0m\u001b[1;33m(\u001b[0m\u001b[0mkey\u001b[0m\u001b[1;33m)\u001b[0m\u001b[1;33m\u001b[0m\u001b[0m\n\u001b[0;32m      4\u001b[0m     \u001b[1;32mif\u001b[0m \u001b[0mmol\u001b[0m \u001b[1;32mis\u001b[0m \u001b[1;32mnot\u001b[0m \u001b[1;32mNone\u001b[0m\u001b[1;33m:\u001b[0m\u001b[1;33m\u001b[0m\u001b[0m\n\u001b[0;32m      5\u001b[0m         \u001b[0matom_num\u001b[0m \u001b[1;33m=\u001b[0m \u001b[0mmol\u001b[0m\u001b[1;33m.\u001b[0m\u001b[0mGetNumAtoms\u001b[0m\u001b[1;33m(\u001b[0m\u001b[1;33m)\u001b[0m\u001b[1;33m\u001b[0m\u001b[0m\n",
      "\u001b[1;31mValueError\u001b[0m: too many values to unpack (expected 2)"
     ]
    }
   ],
   "source": [
    "mol_atom_n_greater_100 = []\n",
    "for key, value in train_reactants:\n",
    "    mol = MolFromSmiles(key)\n",
    "    if mol is not None:\n",
    "        atom_num = mol.GetNumAtoms()\n",
    "        if atom_num >= 100:\n",
    "            mol_atom_n_greater_100.append(key)"
   ]
  },
  {
   "cell_type": "code",
   "execution_count": null,
   "metadata": {},
   "outputs": [],
   "source": [
    "mol_atom_n_greater_100"
   ]
  },
  {
   "cell_type": "code",
   "execution_count": null,
   "metadata": {},
   "outputs": [],
   "source": [
    "for mol in mol_atom_n_greater_100:\n",
    "    MolFromSmiles(mol)"
   ]
  },
  {
   "cell_type": "code",
   "execution_count": null,
   "metadata": {},
   "outputs": [],
   "source": [
    "\n",
    "# atom_dic={}\n",
    "# for i in range(1112657):\n",
    "#     sour = f['reactantsmi'][i] \n",
    "#     a=sour.split('.')\n",
    "#     for j in range(len(a)):\n",
    "#         smi = MolFromSmiles(a[j])\n",
    "#         if smi!=None:\n",
    "#             atom_num=smi.GetNumAtoms()\n",
    "            \n",
    "#         if atom_num in atom_dic:\n",
    "#             atom_dic[atom_num]+=1\n",
    "#         else:\n",
    "#             atom_dic[atom_num]=1"
   ]
  },
  {
   "cell_type": "markdown",
   "metadata": {},
   "source": [
    "# Features"
   ]
  },
  {
   "cell_type": "markdown",
   "metadata": {},
   "source": [
    "## Statistical Count Features\n",
    "- 1 Word Count - Total number of words in the headline\n",
    "- 2 Character Count - Total number of characters in the headline excluding spaces\n",
    "- 3 Word Density - Average length of the words used in the headline\n",
    "- 4 Punctuation Count - Total number of punctuations used in the headline\n",
    "- 5 Upper-Case to Lower-Case Words ratio - ratio of upper case words used and lower case words used in the text"
   ]
  },
  {
   "cell_type": "code",
   "execution_count": null,
   "metadata": {},
   "outputs": [],
   "source": []
  }
 ],
 "metadata": {
  "kernelspec": {
   "display_name": "Python 3",
   "language": "python",
   "name": "python3"
  },
  "language_info": {
   "codemirror_mode": {
    "name": "ipython",
    "version": 3
   },
   "file_extension": ".py",
   "mimetype": "text/x-python",
   "name": "python",
   "nbconvert_exporter": "python",
   "pygments_lexer": "ipython3",
   "version": "3.6.2"
  }
 },
 "nbformat": 4,
 "nbformat_minor": 2
}
